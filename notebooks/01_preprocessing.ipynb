{
 "cells": [
  {
   "cell_type": "code",
   "execution_count": 168,
   "id": "a68c8687",
   "metadata": {},
   "outputs": [],
   "source": [
    "#import libraries\n",
    "import numpy as np\n",
    "import pandas as pd\n",
    "import matplotlib.pyplot as plt\n",
    "import seaborn as sns\n",
    "pd.options.display.max_rows = 1000\n",
    "import pickle"
   ]
  },
  {
   "cell_type": "code",
   "execution_count": 169,
   "id": "2acff8a1",
   "metadata": {},
   "outputs": [],
   "source": [
    "#data path\n",
    "DATA_PATH = '../data/raw/survey_results_public.csv'\n",
    "#export path\n",
    "EXPORT_PATH = '../data/processed/1_processed.pkl'"
   ]
  },
  {
   "cell_type": "code",
   "execution_count": 24,
   "id": "cacedcb0",
   "metadata": {},
   "outputs": [],
   "source": [
    "#read dataset\n",
    "dataset = pd.read_csv(DATA_PATH)"
   ]
  },
  {
   "cell_type": "code",
   "execution_count": 26,
   "id": "b2ca084f",
   "metadata": {},
   "outputs": [
    {
     "data": {
      "text/plain": [
       "(64461, 61)"
      ]
     },
     "execution_count": 26,
     "metadata": {},
     "output_type": "execute_result"
    }
   ],
   "source": [
    "#check shape of data\n",
    "dataset.shape"
   ]
  },
  {
   "cell_type": "code",
   "execution_count": 57,
   "id": "b8285352",
   "metadata": {},
   "outputs": [
    {
     "data": {
      "text/plain": [
       "Respondent                                                                  15880\n",
       "MainBranch                      I am not primarily a developer, but I write co...\n",
       "Hobbyist                                                                      Yes\n",
       "Age                                                                          34.0\n",
       "Age1stCode                                                                     18\n",
       "CompFreq                                                                  Monthly\n",
       "CompTotal                                                                  9600.0\n",
       "ConvertedComp                                                             26388.0\n",
       "Country                                                                    Brazil\n",
       "CurrencyDesc                                                       Brazilian real\n",
       "CurrencySymbol                                                                BRL\n",
       "DatabaseDesireNextYear                                                        NaN\n",
       "DatabaseWorkedWith                                                            NaN\n",
       "DevType                                                            Engineer, data\n",
       "EdLevel                              Bachelor’s degree (B.A., B.S., B.Eng., etc.)\n",
       "Employment                                                     Employed full-time\n",
       "Ethnicity                                            White or of European descent\n",
       "Gender                                                                        Man\n",
       "JobFactors                      Remote work options;Financial performance or f...\n",
       "JobSat                                                             Very satisfied\n",
       "JobSeek                         I’m not actively looking, but I am open to new...\n",
       "LanguageDesireNextYear                                    HTML/CSS;JavaScript;PHP\n",
       "LanguageWorkedWith                                                        SQL;VBA\n",
       "MiscTechDesireNextYear                                                        NaN\n",
       "MiscTechWorkedWith                                                            NaN\n",
       "NEWCollabToolsDesireNextYear                                                  NaN\n",
       "NEWCollabToolsWorkedWith                                                      NaN\n",
       "NEWDevOps                                                                     Yes\n",
       "NEWDevOpsImpt                                                 Extremely important\n",
       "NEWEdImpt                                      Not at all important/not necessary\n",
       "NEWJobHunt                      Curious about other opportunities;Better compe...\n",
       "NEWJobHuntResearch              Read company media, such as employee blogs or ...\n",
       "NEWLearn                                                         Every few months\n",
       "NEWOffTopic                                                              Not sure\n",
       "NEWOnboardGood                                                                Yes\n",
       "NEWOtherComms                                                                  No\n",
       "NEWOvertime                     Sometimes: 1-2 days per month but less than we...\n",
       "NEWPurchaseResearch                                                           NaN\n",
       "NEWPurpleLink                                                   Hello, old friend\n",
       "NEWSOSites                      Stack Overflow (public Q&A for anyone who code...\n",
       "NEWStuck                        Meditate;Call a coworker or friend;Visit Stack...\n",
       "OpSys                                                                     Windows\n",
       "OrgSize                                                  10,000 or more employees\n",
       "PlatformDesireNextYear                                                    Android\n",
       "PlatformWorkedWith                                                        Windows\n",
       "PurchaseWhat                                        I have little or no influence\n",
       "Sexuality                                                 Straight / Heterosexual\n",
       "SOAccount                                                                     Yes\n",
       "SOComm                                                             No, not really\n",
       "SOPartFreq                                    Less than once per month or monthly\n",
       "SOVisitFreq                                                 Daily or almost daily\n",
       "SurveyEase                                                                   Easy\n",
       "SurveyLength                                                Appropriate in length\n",
       "Trans                                                                          No\n",
       "UndergradMajor                  Another engineering discipline (such as civil,...\n",
       "WebframeDesireNextYear                                                        NaN\n",
       "WebframeWorkedWith                                                            NaN\n",
       "WelcomeChange                             Just as welcome now as I felt last year\n",
       "WorkWeekHrs                                                                   9.0\n",
       "YearsCode                                                                       1\n",
       "YearsCodePro                                                                    1\n",
       "Name: 15825, dtype: object"
      ]
     },
     "execution_count": 57,
     "metadata": {},
     "output_type": "execute_result"
    }
   ],
   "source": [
    "dataset.sample(1).iloc[0]"
   ]
  },
  {
   "cell_type": "code",
   "execution_count": 58,
   "id": "4c0951e8",
   "metadata": {},
   "outputs": [
    {
     "name": "stdout",
     "output_type": "stream",
     "text": [
      "<class 'pandas.core.frame.DataFrame'>\n",
      "RangeIndex: 64461 entries, 0 to 64460\n",
      "Data columns (total 61 columns):\n",
      " #   Column                        Non-Null Count  Dtype  \n",
      "---  ------                        --------------  -----  \n",
      " 0   Respondent                    64461 non-null  int64  \n",
      " 1   MainBranch                    64162 non-null  object \n",
      " 2   Hobbyist                      64416 non-null  object \n",
      " 3   Age                           45446 non-null  float64\n",
      " 4   Age1stCode                    57900 non-null  object \n",
      " 5   CompFreq                      40069 non-null  object \n",
      " 6   CompTotal                     34826 non-null  float64\n",
      " 7   ConvertedComp                 34756 non-null  float64\n",
      " 8   Country                       64072 non-null  object \n",
      " 9   CurrencyDesc                  45472 non-null  object \n",
      " 10  CurrencySymbol                45472 non-null  object \n",
      " 11  DatabaseDesireNextYear        44070 non-null  object \n",
      " 12  DatabaseWorkedWith            49537 non-null  object \n",
      " 13  DevType                       49370 non-null  object \n",
      " 14  EdLevel                       57431 non-null  object \n",
      " 15  Employment                    63854 non-null  object \n",
      " 16  Ethnicity                     45948 non-null  object \n",
      " 17  Gender                        50557 non-null  object \n",
      " 18  JobFactors                    49349 non-null  object \n",
      " 19  JobSat                        45194 non-null  object \n",
      " 20  JobSeek                       51727 non-null  object \n",
      " 21  LanguageDesireNextYear        54113 non-null  object \n",
      " 22  LanguageWorkedWith            57378 non-null  object \n",
      " 23  MiscTechDesireNextYear        42379 non-null  object \n",
      " 24  MiscTechWorkedWith            40314 non-null  object \n",
      " 25  NEWCollabToolsDesireNextYear  47287 non-null  object \n",
      " 26  NEWCollabToolsWorkedWith      52883 non-null  object \n",
      " 27  NEWDevOps                     42686 non-null  object \n",
      " 28  NEWDevOpsImpt                 41732 non-null  object \n",
      " 29  NEWEdImpt                     48465 non-null  object \n",
      " 30  NEWJobHunt                    42286 non-null  object \n",
      " 31  NEWJobHuntResearch            41022 non-null  object \n",
      " 32  NEWLearn                      56156 non-null  object \n",
      " 33  NEWOffTopic                   50804 non-null  object \n",
      " 34  NEWOnboardGood                42623 non-null  object \n",
      " 35  NEWOtherComms                 57205 non-null  object \n",
      " 36  NEWOvertime                   43231 non-null  object \n",
      " 37  NEWPurchaseResearch           37321 non-null  object \n",
      " 38  NEWPurpleLink                 54803 non-null  object \n",
      " 39  NEWSOSites                    58275 non-null  object \n",
      " 40  NEWStuck                      54983 non-null  object \n",
      " 41  OpSys                         56228 non-null  object \n",
      " 42  OrgSize                       44334 non-null  object \n",
      " 43  PlatformDesireNextYear        50605 non-null  object \n",
      " 44  PlatformWorkedWith            53843 non-null  object \n",
      " 45  PurchaseWhat                  39364 non-null  object \n",
      " 46  Sexuality                     43992 non-null  object \n",
      " 47  SOAccount                     56805 non-null  object \n",
      " 48  SOComm                        56476 non-null  object \n",
      " 49  SOPartFreq                    46792 non-null  object \n",
      " 50  SOVisitFreq                   56970 non-null  object \n",
      " 51  SurveyEase                    51802 non-null  object \n",
      " 52  SurveyLength                  51701 non-null  object \n",
      " 53  Trans                         49345 non-null  object \n",
      " 54  UndergradMajor                50995 non-null  object \n",
      " 55  WebframeDesireNextYear        40024 non-null  object \n",
      " 56  WebframeWorkedWith            42279 non-null  object \n",
      " 57  WelcomeChange                 52683 non-null  object \n",
      " 58  WorkWeekHrs                   41151 non-null  float64\n",
      " 59  YearsCode                     57684 non-null  object \n",
      " 60  YearsCodePro                  46349 non-null  object \n",
      "dtypes: float64(4), int64(1), object(56)\n",
      "memory usage: 30.0+ MB\n"
     ]
    }
   ],
   "source": [
    "dataset.info()"
   ]
  },
  {
   "cell_type": "code",
   "execution_count": 61,
   "id": "ef632b85",
   "metadata": {},
   "outputs": [
    {
     "data": {
      "text/plain": [
       "array(['27', '4', nan, '8', '13', '2', '7', '20', '1', '23', '3', '12',\n",
       "       '17', '18', '10', '14', '29', '6', '28', '9', '15', '11', '16',\n",
       "       '25', 'Less than 1 year', '5', '21', '19', '35', '24', '32', '22',\n",
       "       '30', '38', '26', '40', '33', '31', 'More than 50 years', '34',\n",
       "       '36', '39', '37', '41', '45', '47', '42', '46', '50', '43', '44',\n",
       "       '48', '49'], dtype=object)"
      ]
     },
     "execution_count": 61,
     "metadata": {},
     "output_type": "execute_result"
    }
   ],
   "source": [
    "dataset['YearsCodePro'].unique()"
   ]
  },
  {
   "cell_type": "code",
   "execution_count": 62,
   "id": "5ac02c57",
   "metadata": {},
   "outputs": [
    {
     "data": {
      "text/plain": [
       "array(['36', '7', '4', '15', '6', '17', '8', '10', '35', '5', '37', '19',\n",
       "       '9', '22', '30', '23', '20', '2', 'Less than 1 year', '3', '13',\n",
       "       '25', '16', '43', '11', '38', '33', nan, '24', '21', '12', '40',\n",
       "       '27', '50', '46', '14', '18', '28', '32', '44', '26', '42', '31',\n",
       "       '34', '29', '1', '39', '41', '45', 'More than 50 years', '47',\n",
       "       '49', '48'], dtype=object)"
      ]
     },
     "execution_count": 62,
     "metadata": {},
     "output_type": "execute_result"
    }
   ],
   "source": [
    "dataset['YearsCode'].unique()"
   ]
  },
  {
   "cell_type": "code",
   "execution_count": 63,
   "id": "30da0464",
   "metadata": {},
   "outputs": [
    {
     "data": {
      "text/plain": [
       "array(['13', '19', '15', '18', '16', '14', '12', '20', '42', '8', '25',\n",
       "       '22', '30', '17', '21', '10', '46', '9', '7', '11', '6', nan, '31',\n",
       "       '29', '5', 'Younger than 5 years', '28', '38', '23', '27', '41',\n",
       "       '24', '53', '26', '35', '32', '40', '33', '36', '54', '48', '56',\n",
       "       '45', '44', '34', 'Older than 85', '39', '51', '68', '50', '37',\n",
       "       '47', '43', '52', '85', '64', '55', '58', '49', '76', '72', '73',\n",
       "       '83', '63'], dtype=object)"
      ]
     },
     "execution_count": 63,
     "metadata": {},
     "output_type": "execute_result"
    }
   ],
   "source": [
    "dataset['Age1stCode'].unique()"
   ]
  },
  {
   "cell_type": "code",
   "execution_count": 66,
   "id": "1f39369e",
   "metadata": {},
   "outputs": [],
   "source": [
    "#convert object to float after replacement\n",
    "REPLACE_DICT = {\n",
    "    \n",
    "    'YearsCodePro': {'Less than 1 year':0,'More than 50 years':51},\n",
    "    'YearsCode'   : {'Less than 1 year':0,'More than 50 years':51},\n",
    "    'Age1stCode'  : {'Younger than 5 years':4,'Older than 85':86}\n",
    "    \n",
    "}"
   ]
  },
  {
   "cell_type": "code",
   "execution_count": 67,
   "id": "301a8dc9",
   "metadata": {},
   "outputs": [],
   "source": [
    "for col,replacement in REPLACE_DICT.items():\n",
    "    dataset[col]=dataset[col].replace(replacement).astype('float32')"
   ]
  },
  {
   "cell_type": "code",
   "execution_count": 163,
   "id": "b8e9821d",
   "metadata": {},
   "outputs": [],
   "source": [
    "#split multiple answers into single answer using delimiter(';')\n",
    "def split_answers(df_series,delimiter=';'):\n",
    "    \"\"\"\n",
    "    split multiple answers into a list of answers using delimiter\n",
    "    \n",
    "    parameters:\n",
    "     * df_series(pd.series) as series of multiple answers\n",
    "     * delimiter(string) default ';'\n",
    "    \"\"\"\n",
    "    #check if column has multiple answers or not\n",
    "    def is_splittable(df_series,delimiter):\n",
    "        \"\"\"check if multiple answers\"\"\" 'return boolean'\n",
    "        return df_series.str.contains(delimiter)\n",
    "        \n",
    "    def split_answer(df_series,delimiter):\n",
    "        \"\"\" split to asingle answer\"\"\"\n",
    "        return df_series.str.split(delimiter)\n",
    "    \n",
    "    splittable_values = is_splittable(df_series,delimiter)\n",
    "        \n",
    "    if not splittable_values.any():\n",
    "        return df_series\n",
    "    \n",
    "    modified_series = split_answer(df_series,delimiter)\n",
    "    \n",
    "    null_mask = modified_series.isnull()\n",
    "    \n",
    "    modified_series.loc[null_mask] = modified_series.loc[null_mask].apply(lambda x:[])\n",
    "    \n",
    "    return modified_series    \n",
    "    "
   ]
  },
  {
   "cell_type": "code",
   "execution_count": 165,
   "id": "24cbdd53",
   "metadata": {},
   "outputs": [],
   "source": [
    "object_cols = dataset.select_dtypes(include='object').columns.tolist()\n",
    "for col in object_cols:\n",
    "    dataset[col] = split_answers(dataset[col])"
   ]
  },
  {
   "cell_type": "code",
   "execution_count": 167,
   "id": "98e265f5",
   "metadata": {},
   "outputs": [
    {
     "data": {
      "text/plain": [
       "Respondent                                                                     65\n",
       "MainBranch                                         I am a developer by profession\n",
       "Hobbyist                                                                      Yes\n",
       "Age                                                                          34.0\n",
       "Age1stCode                                                                   13.0\n",
       "CompFreq                                                                  Monthly\n",
       "CompTotal                                                                 98000.0\n",
       "ConvertedComp                                                           1176000.0\n",
       "Country                                                             United States\n",
       "CurrencyDesc                                                 United States dollar\n",
       "CurrencySymbol                                                                USD\n",
       "DatabaseDesireNextYear                          [Couchbase, Elasticsearch, Redis]\n",
       "DatabaseWorkedWith                                         [Microsoft SQL Server]\n",
       "DevType                         [Developer, back-end, Developer, front-end, De...\n",
       "EdLevel                              Bachelor’s degree (B.A., B.S., B.Eng., etc.)\n",
       "Employment                                                     Employed full-time\n",
       "Ethnicity                                          [White or of European descent]\n",
       "Gender                                                                      [Man]\n",
       "JobFactors                      [Remote work options, How widely used or impac...\n",
       "JobSat                                                         Slightly satisfied\n",
       "JobSeek                         I’m not actively looking, but I am open to new...\n",
       "LanguageDesireNextYear                                   [Go, Kotlin, TypeScript]\n",
       "LanguageWorkedWith              [Bash/Shell/PowerShell, C#, HTML/CSS, JavaScri...\n",
       "MiscTechDesireNextYear                                         [Flutter, Node.js]\n",
       "MiscTechWorkedWith                                              [.NET, .NET Core]\n",
       "NEWCollabToolsDesireNextYear                                             [Gitlab]\n",
       "NEWCollabToolsWorkedWith                                           [Jira, Github]\n",
       "NEWDevOps                                                                      No\n",
       "NEWDevOpsImpt                                                  Somewhat important\n",
       "NEWEdImpt                                                        Fairly important\n",
       "NEWJobHunt                                                         [Just because]\n",
       "NEWJobHuntResearch              [Read company media, such as employee blogs or...\n",
       "NEWLearn                                                              Once a year\n",
       "NEWOffTopic                                                                    No\n",
       "NEWOnboardGood                                                                Yes\n",
       "NEWOtherComms                                                                 Yes\n",
       "NEWOvertime                     Occasionally: 1-2 days per quarter but less th...\n",
       "NEWPurchaseResearch             [Ask developers I know/work with, Visit develo...\n",
       "NEWPurpleLink                                                              Amused\n",
       "NEWSOSites                      [Stack Overflow (public Q&A for anyone who cod...\n",
       "NEWStuck                        [Call a coworker or friend, Visit Stack Overfl...\n",
       "OpSys                                                                     Windows\n",
       "OrgSize                                                        10 to 19 employees\n",
       "PlatformDesireNextYear                                                         []\n",
       "PlatformWorkedWith                  [AWS, Microsoft Azure, Raspberry Pi, Windows]\n",
       "PurchaseWhat                                     I have a great deal of influence\n",
       "Sexuality                                               [Straight / Heterosexual]\n",
       "SOAccount                                                                     NaN\n",
       "SOComm                                                              Yes, somewhat\n",
       "SOPartFreq                                                                    NaN\n",
       "SOVisitFreq                     I have never visited Stack Overflow (before to...\n",
       "SurveyEase                                                                   Easy\n",
       "SurveyLength                                                Appropriate in length\n",
       "Trans                                                                          No\n",
       "UndergradMajor                  Computer science, computer engineering, or sof...\n",
       "WebframeDesireNextYear                                                         []\n",
       "WebframeWorkedWith                        [ASP.NET, ASP.NET Core, jQuery, Vue.js]\n",
       "WelcomeChange                            Somewhat less welcome now than last year\n",
       "WorkWeekHrs                                                                  40.0\n",
       "YearsCode                                                                    21.0\n",
       "YearsCodePro                                                                 14.0\n",
       "Name: 64, dtype: object"
      ]
     },
     "execution_count": 167,
     "metadata": {},
     "output_type": "execute_result"
    }
   ],
   "source": [
    "dataset.sample(1).iloc[0]"
   ]
  },
  {
   "cell_type": "code",
   "execution_count": 170,
   "id": "cef7a8af",
   "metadata": {},
   "outputs": [],
   "source": [
    "dataset.to_pickle(EXPORT_PATH)"
   ]
  },
  {
   "cell_type": "code",
   "execution_count": null,
   "id": "e059367a",
   "metadata": {},
   "outputs": [],
   "source": []
  },
  {
   "cell_type": "code",
   "execution_count": null,
   "id": "9e723a49",
   "metadata": {},
   "outputs": [],
   "source": []
  },
  {
   "cell_type": "code",
   "execution_count": null,
   "id": "88301355",
   "metadata": {},
   "outputs": [],
   "source": []
  }
 ],
 "metadata": {
  "kernelspec": {
   "display_name": "Python 3",
   "language": "python",
   "name": "python3"
  },
  "language_info": {
   "codemirror_mode": {
    "name": "ipython",
    "version": 3
   },
   "file_extension": ".py",
   "mimetype": "text/x-python",
   "name": "python",
   "nbconvert_exporter": "python",
   "pygments_lexer": "ipython3",
   "version": "3.8.5"
  }
 },
 "nbformat": 4,
 "nbformat_minor": 5
}
